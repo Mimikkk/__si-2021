{
 "cells": [
  {
   "cell_type": "markdown",
   "metadata": {},
   "source": [
    "# Regresja logistyczna"
   ]
  },
  {
   "cell_type": "code",
   "execution_count": null,
   "metadata": {},
   "outputs": [],
   "source": [
    "import matplotlib.pyplot as plt\n",
    "import numpy as np\n",
    "from math import exp\n",
    "\n",
    "def transformation(x):\n",
    "  (a, b) = (-1, -5)\n",
    "  return 1 / (1 + exp(-(a * x + b)))\n",
    "\n",
    "X = [1, 2, 4, 7, 8, 10, 12, 17]  #rozmiary guzów\n",
    "Y = [0, 0, 0, 0, 0, 1, 1, 1]  #flaga (decyzja) oceniająca ich złośliwość - 1=złośliwy / 0=niezłośliwy\n",
    "function_sampling_x_coordinates = np.linspace(0, 18, 500)  #generowanie 500 punktów pomiędzy granicami osi X (0,18)\n",
    "function_sampling_y_coordinates = [transformation(x) for x in\n",
    "                                   function_sampling_x_coordinates]  #wyznaczanie wartosci funkcji transformation w tych punktach\n",
    "\n",
    "plt.plot(X, Y, \"o\")\n",
    "plt.plot(function_sampling_x_coordinates, function_sampling_y_coordinates, 'r-')\n",
    "plt.ylim(bottom=1.25, top=-0.25)\n",
    "\n",
    "plt.show()"
   ]
  },
  {
   "cell_type": "markdown",
   "metadata": {},
   "source": [
    "## Zadanie 1\n",
    "Zamień postać funkcji `transformation` tak, aby stworzyła krzywą logistyczną za pomocą funkcji sigmoidalnej:\n",
    "$$\\frac{1}{1+e^{-(ax+b)}}$$"
   ]
  },
  {
   "cell_type": "markdown",
   "metadata": {},
   "source": [
    "Jaki wpływ ma zmiana wartości parametru a na funkcję?"
   ]
  },
  {
   "cell_type": "markdown",
   "metadata": {},
   "source": [
    "**Tu odpowiedź:**\n",
    "Modyfikacja parametru `a` wpływa na 'kierunek' fragmentu otrzymanej sigmoidy oraz i prędkość, z jaką ta dąży do `0/1` proporcjonalnie do wartości `0/1`."
   ]
  },
  {
   "cell_type": "markdown",
   "metadata": {},
   "source": [
    "Jaki wpływ ma zmiana wartości parametru b na funkcję?"
   ]
  },
  {
   "cell_type": "markdown",
   "metadata": {},
   "source": [
    "**Tu odpowiedź:**\n",
    "Modyfikacja parametru `b` zmienia miejsce przecięcia z osią Y, dla b=0 jest to 0.5, dla -5 zero, a dla 5 jeden."
   ]
  },
  {
   "cell_type": "markdown",
   "metadata": {},
   "source": [
    "## Zadanie 2\n",
    "Na podstawie dokumentacji sklearn, stwórz klasyfikator `LogisticRegression` i wytrenuj go odpowiednio, aby dobrze separował przestrzeń."
   ]
  },
  {
   "cell_type": "code",
   "execution_count": null,
   "metadata": {},
   "outputs": [],
   "source": [
    "from sklearn import linear_model, datasets\n",
    "from utils import plot_boundary\n",
    "\n",
    "iris = datasets.load_iris()\n",
    "X = iris.data[:, :2]  #weź tylko dwie cechy przykładowego zbioru\n",
    "Y = iris.target  # Y to klasy, które chcemy przewidzieć\n",
    "\n",
    "logreg = linear_model.LogisticRegression(random_state=0).fit(X, Y)\n",
    "\n",
    "plot_boundary(logreg, X, Y)"
   ]
  },
  {
   "cell_type": "markdown",
   "metadata": {},
   "source": [
    "# Sieci neuronowe\n",
    "\n",
    "## Zadanie 3:\n",
    "Odwiedź stronę [playground.tensorflow.org](http://playground.tensorflow.org)"
   ]
  },
  {
   "cell_type": "markdown",
   "metadata": {},
   "source": [
    "Zredukuj sieć neuronową do minimalnej postaci (0 hidden layers; nie zmieniaj kolumny features) i rozpocznij proces uczenia na problemie nr 3 (dwa rozdzielne skupiska- ang.Gaussian) - czy taka sieć (pojedynczy neuron) nauczyła się odpowiedniej granicy decyzyjnej? (spójrz na wizualizację oraz wykres training/test loss)"
   ]
  },
  {
   "cell_type": "markdown",
   "metadata": {},
   "source": [
    "**Tu odpowiedź:**\n",
    "Taka sieć odpowiednio uczy się granicy decyzyjnej.\n",
    "Training/Test loss: 0/0."
   ]
  },
  {
   "cell_type": "markdown",
   "metadata": {},
   "source": [
    "Czy dodanie warstw ukrytych coś zmienia w kontekście wyuczenia? a w kontekście czasu wyznaczania granicy decyzyjnej?"
   ]
  },
  {
   "cell_type": "markdown",
   "metadata": {},
   "source": [
    "**Tu odpowiedź**\n",
    "Dodawanie kolejnych warstw nie skutkuje w zmianach funkcji decyzyjnej ani kontekście wyuczania."
   ]
  },
  {
   "cell_type": "markdown",
   "metadata": {},
   "source": [
    "Zmień zbiór danych na pierwszy (niebieska chmura wewnątrz pomarańczowej obręczy); czy tutaj minimalna sieć uczy się odpowiednio? Odpowiedź uzasadnij."
   ]
  },
  {
   "cell_type": "markdown",
   "metadata": {},
   "source": [
    "**Tu odpowiedź:**\n",
    "Nie, ze względu na błędną naukę sieci neuronowej,\n",
    "w kierunku błędnego rozwiązania, uwzględniających za mało faktów."
   ]
  },
  {
   "cell_type": "markdown",
   "metadata": {},
   "source": [
    "Jak sprawić, aby sieć zaczęła dobrze działać na zbiorze nr 1? Rozważ niezbędne modyfikacje (preferuj najprostsze sposoby) zarówno w kolumnie features, jak i manipulacje warstwami ukrytymi (hidden layers)."
   ]
  },
  {
   "cell_type": "markdown",
   "metadata": {},
   "source": [
    "**Tu odpowiedź:**\n",
    "dodanie warstwy ukrytej z kolejnymi neuronami"
   ]
  },
  {
   "cell_type": "markdown",
   "metadata": {},
   "source": [
    "## Zadanie 4\n",
    "\n",
    "Na podstawie dokumentacji sklearn, stwórz `MLPClassifier`, wytrenuj go a następnie użyj wytrenowanego modelu do przewidywania etykiet na zbiorze testowym.\n",
    "Utwórz klasyfikator w zmiennej `mlp`, a listę przewidzianych etykiet umieść w obiekcie `predicted`. Doprowadź do sytuacji, w której masz nie więcej niż 8 błędów na zbiorze testowym."
   ]
  },
  {
   "cell_type": "code",
   "execution_count": null,
   "metadata": {},
   "outputs": [],
   "source": [
    "from sklearn.datasets import load_digits\n",
    "import matplotlib.pyplot as plt\n",
    "from sklearn.model_selection import train_test_split\n",
    "from sklearn.neural_network import MLPClassifier\n",
    "from sklearn.metrics import confusion_matrix\n",
    "\n",
    "digits = load_digits()\n",
    "fig = plt.figure(figsize=(4, 4))\n",
    "fig.subplots_adjust(left=0, right=1, bottom=0, top=1, hspace=0.05, wspace=0.05)\n",
    "\n",
    "for i in range(16):\n",
    "  ax = fig.add_subplot(4, 4, i + 1, xticks=[], yticks=[])\n",
    "  ax.imshow(digits.images[i], cmap=plt.cm.binary, interpolation='nearest')\n",
    "  ax.text(0, 7, str(digits.target[i]))\n",
    "\n",
    "(X_train, X_test, y_train, y_test) = train_test_split(digits.data, digits.target, test_size=0.2, random_state=16)\n",
    "\n",
    "mlp = MLPClassifier(max_iter=500, verbose=10, tol=0.000001).fit(X_train, y_train)\n",
    "\n",
    "if predicted := mlp.predict(X_test):\n",
    "  print(confusion_matrix(y_test, predicted))\n",
    "  expected = y_test\n",
    "\n",
    "  fig = plt.figure(figsize=(8, 8))\n",
    "  fig.subplots_adjust(left=0, right=1, bottom=0, top=1, hspace=0.05, wspace=0.05)\n",
    "\n",
    "  count = 0\n",
    "  for i in range(len(X_test)):\n",
    "    if predicted[i] == expected[i]: continue\n",
    "    count += 1\n",
    "\n",
    "    ax = fig.add_subplot(8, 8, count, xticks=[], yticks=[])\n",
    "    ax.imshow(X_test.reshape(-1, 8, 8)[i], cmap=plt.cm.binary, interpolation='nearest')\n",
    "\n",
    "    ax.text(0, 7, f\"generated: {predicted[i]}\", color='red')\n",
    "    ax.text(0, 6, f\"expected: {expected[i]}\", color='green')\n",
    "  print(f'\\nerrors: {count}')"
   ]
  }
 ],
 "metadata": {
  "anaconda-cloud": {},
  "kernelspec": {
   "display_name": "Python 3",
   "language": "python",
   "name": "python3"
  },
  "language_info": {
   "codemirror_mode": {
    "name": "ipython",
    "version": 3
   },
   "file_extension": ".py",
   "mimetype": "text/x-python",
   "name": "python",
   "nbconvert_exporter": "python",
   "pygments_lexer": "ipython3",
   "version": "3.7.3"
  }
 },
 "nbformat": 4,
 "nbformat_minor": 4
}