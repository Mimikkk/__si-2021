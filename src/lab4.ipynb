{
 "cells": [
  {
   "cell_type": "markdown",
   "metadata": {},
   "source": [
    "# Sieci splotowe"
   ]
  },
  {
   "cell_type": "code",
   "execution_count": 179,
   "metadata": {},
   "outputs": [],
   "source": [
    "from torchsummary import summary\n",
    "\n",
    "import matplotlib\n",
    "import numpy as np\n",
    "import matplotlib.pyplot as plt\n",
    "\n",
    "import torch\n",
    "import torch.nn as nn\n",
    "import torch.optim as optim\n",
    "import torch.utils.data as data"
   ]
  },
  {
   "cell_type": "markdown",
   "metadata": {},
   "source": [
    "## Przygotowanie danych\n",
    "Ponownie wykorzystamy w zadaniu zbiór MNIST. Zaczynamy od pobrania dnaych."
   ]
  },
  {
   "cell_type": "code",
   "execution_count": 180,
   "metadata": {},
   "outputs": [],
   "source": [
    "import torchvision.transforms as transforms\n",
    "from torchvision.datasets import MNIST\n",
    "\n",
    "target_directory = \"mnist\"\n",
    "\n",
    "mnist_real_train = MNIST(target_directory, train=True, download=True, transform=transforms.ToTensor())\n",
    "mnist_test = MNIST(target_directory, train=False, download=True, transform=transforms.ToTensor())"
   ]
  },
  {
   "cell_type": "code",
   "execution_count": 181,
   "metadata": {},
   "outputs": [
    {
     "data": {
      "text/plain": "(48000, 12000)"
     },
     "execution_count": 181,
     "metadata": {},
     "output_type": "execute_result"
    }
   ],
   "source": [
    "mnist_train, mnist_validation = data.random_split(mnist_real_train, (48000, 12000))\n",
    "len(mnist_train), len(mnist_validation)"
   ]
  },
  {
   "cell_type": "code",
   "execution_count": 182,
   "metadata": {},
   "outputs": [
    {
     "data": {
      "text/plain": "torch.Size([1, 28, 28])"
     },
     "execution_count": 182,
     "metadata": {},
     "output_type": "execute_result"
    }
   ],
   "source": [
    "mnist_train[0][0].shape"
   ]
  },
  {
   "cell_type": "code",
   "execution_count": 183,
   "metadata": {},
   "outputs": [],
   "source": [
    "def compute_acc(logits, expected):\n",
    "  pred = logits.argmax(dim=1)\n",
    "  return (pred == expected).type(torch.float).mean()"
   ]
  },
  {
   "cell_type": "markdown",
   "metadata": {},
   "source": [
    "## Budowa sieci neuronowej"
   ]
  },
  {
   "cell_type": "markdown",
   "metadata": {},
   "source": [
    "### Warstwa splotowa\n",
    "\n",
    "Warstwa splotowa (ang. *convolutional layer*) przesuwa jądro (ang. *kernel*) po obrazie (w ogólności: po macierzy) miejsce przy miejscu, oblicza wynik i zapamiętuje w macierzy wyjściowej. Na poniższym rysunku mamy do czynienia z obrazem $7\\times 5$ pikseli (jasnoszary obszar w dolnej części rysunku) po którym przesuwane jest jądro $3\\times 3$ piksele. Obrazek jest uzupełniony (ang. *padding*) o zera, zaznaczone na rysunku kolorem ciemnoszarym. Po co takie uzupełnienie? Bez niego macierz wynikowa byłaby mniejsza niż obrazek wejściowy. Czerwony piksel w macierzy wyjściowej obliczany jest następująco: każdy z pikseli obrazu wejściowego jest mnożony przez odpowiadającą mu wartość w filtrze, a tak uzyskane 9 wartości jest sumowane. Następnie ten sam filtr wykorzystywany jest do obliczenia kolejnego piksela - zaznaczonego na niebiesko - na podstawie pikseli wejściowych zaznaczonych niebieską linią przerywaną. Filtr to są wagi splotowej sieci neuronowej, to znaczy to on podlega uczeniu."
   ]
  },
  {
   "cell_type": "markdown",
   "metadata": {},
   "source": [
    "![Rysunek poglądowy dotyczący warstwy splotowej](resources/images/mlst_1303.png)\n",
    "\n",
    "Aurélien Géron \"Hands-On Machine Learning with Scikit-Learn, Keras, and TensorFlow\" O'Reilly Media 2017"
   ]
  },
  {
   "cell_type": "markdown",
   "metadata": {},
   "source": [
    "Jądro nie musi przsuwać się za każdym razem o 1 piksel, może mieć większy krok (ang. *stride*), jak na poniższym rysunku."
   ]
  },
  {
   "cell_type": "markdown",
   "metadata": {},
   "source": [
    "![Ilustracja *stride*](resources/images/mlst_1304.png)\n",
    "\n",
    "Aurélien Géron \"Hands-On Machine Learning with Scikit-Learn, Keras, and TensorFlow\" O'Reilly Media 2017"
   ]
  },
  {
   "cell_type": "markdown",
   "metadata": {},
   "source": [
    "Ale, ale... przecież obrazki mogą być kolorowe! No i faktycznie, możemy postrzegać pojedynczy obrazek jako kilka obrazków monochromatycznych. Wtedy zamiast przesuwać płaski filtr po pojedynczym obrazku przesuwamy kostkę, której dwa wymiary możemy modyfikować (odpowiedzialne za wysokość i szerokość), natomiast jej głębokość jest ustalona - zależy od liczby warstw obrazka. Na poniższym rysunku zaczynamy od normalnego obrazka RGB, który następnie jest zamieniany na wiele map - każda posiadająca swój jeden filtr (kostkę) - w ten sposób powstaje nowy \"obrazek\" podpisany na rysunku *Convolutional layer 1*, na którym... ponawiamy operację! Używając nowego zestawu filtrów tworzymy *Convolutional layer 2*."
   ]
  },
  {
   "cell_type": "markdown",
   "metadata": {},
   "source": [
    "![Ilustracja sieci splotowej w przypadku trójwymiarowym](resources/images/mlst_1306.png)\n",
    "\n",
    "Aurélien Géron \"Hands-On Machine Learning with Scikit-Learn, Keras, and TensorFlow\" O'Reilly Media 2017"
   ]
  },
  {
   "cell_type": "markdown",
   "metadata": {},
   "source": [
    "Warstwę splotową w PyTorch realizuje klasa [`torch.nn.Conv2d`](https://pytorch.org/docs/stable/nn.html?highlight=conv2d#torch.nn.Conv2d). Pierwsze trzy parametry jej konstruktora są obowiązkowe, to kolejno: liczba map na wejściu, liczba map na wyjściu, rozmiar jądra (jedna liczba jeżeli ma być kwadratowe albo para liczb jeżeli ma być prostokątem).\n",
    "\n",
    "Będziemy budowali krok po kroku tablicę `layers`, której będziemy umieszczali kolejne warstwy naszej sieci neuronowej.\n",
    "Rozpoczniemy od dodania warstwy splotowej.\n",
    "Obrazki MNIST są monochromatyczne, więc mamy tylko 1 kanał wejściowy.\n",
    "Przyjmimy, że na wyjściu będziemy mieli 5 map, każdą na bazie kwadratowego filtra o boku 3.\n",
    "Żeby nie zmniejszyć zbyt szybko obrazka dodamy po 1 pikselu paddingu z każdej strony - jak na rysunku powyżej."
   ]
  },
  {
   "cell_type": "code",
   "execution_count": 184,
   "metadata": {},
   "outputs": [],
   "source": [
    "layers = [\n",
    "  nn.Conv2d(1, 5, (3, 3), padding=1)\n",
    "]"
   ]
  },
  {
   "cell_type": "markdown",
   "metadata": {},
   "source": [
    "### Nieliniowość\n",
    "\n",
    "Warstwa splotowa - podobnie jak warstwa liniowa (`nn.Linear`) - jest tylko sumą. Nie ma sensu bezpośrednie składanie kilku warstw splotowych jedna na drugą, potrzebna jest nieliniowość. Zastosujemy *leaky ReLU*, funkcję aktywacji przedstawioną na poniższym wykresie"
   ]
  },
  {
   "cell_type": "markdown",
   "metadata": {},
   "source": [
    "![Leaky ReLU](resources/images/leaky_relu.png)\n",
    "\n",
    "Aurélien Géron \"Hands-On Machine Learning with Scikit-Learn, Keras, and TensorFlow\" O'Reilly Media 2017"
   ]
  },
  {
   "cell_type": "code",
   "execution_count": 185,
   "metadata": {},
   "outputs": [],
   "source": [
    "layers.append(nn.LeakyReLU())"
   ]
  },
  {
   "cell_type": "markdown",
   "metadata": {},
   "source": [
    "### Łączenie\n",
    "\n",
    "Sieć splotowa pozwala uwydatnić pewne cechy w obrazie, na przykład na poniższym rysunku na mapie po lewej stronie uwydatnione zostały linie pionowe, a po prawej linie poziome. "
   ]
  },
  {
   "cell_type": "markdown",
   "metadata": {},
   "source": [
    "![](resources/images/mlst_1305.png)\n",
    "\n",
    "Aurélien Géron \"Hands-On Machine Learning with Scikit-Learn, Keras, and TensorFlow\" O'Reilly Media 2017"
   ]
  },
  {
   "cell_type": "markdown",
   "metadata": {},
   "source": [
    "Z drugiej strony to uwydatnienie spowodowało, że trochę straciliśmy szczegóły i właściwie nie potrzebujemy już tak dużej rozdzielczości. Z pomocą przychodzi operacja łączenia (ang. *pooling*), która podobnie jak sieć splotowa przesuwa filtr przez obraz, ale ten filtr jest pozbawiony parametrów: służy albo do wybierania maksimum (ang. *max pooling*) albo do obliczania średniej arytmetycznej (ang. *average pooling*). Poniższy rysunek zgrubnie prezentuje ideę *max pooling* (kernel $2\\times 2$, stride 2, bez paddingu - stąd $\\times$ w ostatniej kolumnie). W przypadku operacji łączenia nie ma problemu z przejściem do przetwarzania obrazów kolorowych - każda mapa (kanał) analizowana jest oddzielnie, więc zawsze pozostajemy w dwóch wymiarach, wykonując tę operację."
   ]
  },
  {
   "cell_type": "markdown",
   "metadata": {},
   "source": [
    "![max pooling](resources/images/mlst_1308.png)\n",
    "\n",
    "Aurélien Géron \"Hands-On Machine Learning with Scikit-Learn, Keras, and TensorFlow\" O'Reilly Media 2017"
   ]
  },
  {
   "cell_type": "markdown",
   "metadata": {},
   "source": [
    "Dodamy do naszej sieci neuronowej *max pooling*, realizowany za pomocą klasy `nn.MaxPool2d`, z jądrem rozmiaru $3\\times 3$ i uzupełnieniem o 1 piksel z każdej strony."
   ]
  },
  {
   "cell_type": "code",
   "execution_count": 186,
   "metadata": {},
   "outputs": [],
   "source": [
    "layers.append(nn.MaxPool2d(3, padding=1))"
   ]
  },
  {
   "cell_type": "markdown",
   "metadata": {},
   "source": [
    "### Zadanie 1\n",
    "\n",
    "Ile map i jakiego rozmiaru będzie na tym etapie przetwarzania, jeżeli wejście miało jedną mapę rozmiaru $28\\times 28$?"
   ]
  },
  {
   "cell_type": "markdown",
   "metadata": {},
   "source": [
    "* **Liczba map**: 5\n",
    "* **Rozmiar każdej mapy**: 10*10"
   ]
  },
  {
   "cell_type": "markdown",
   "metadata": {},
   "source": [
    "### Spłaszczanie\n",
    "\n",
    "Na tym etapie każdy obiekt przetwarzany przez naszą sieć neuronową jest trójwymiarowy, tj. składa się z pewnej liczby dwuwymiarowych map. Takiego wejścia nie możemy podać do warstwy liniowej! Wykorzystamy klasę `nn.Flatten`, żeby ułożyć piksele jeden za drugim w formie wektora."
   ]
  },
  {
   "cell_type": "code",
   "execution_count": 187,
   "metadata": {},
   "outputs": [],
   "source": [
    "layers.append(nn.Flatten())"
   ]
  },
  {
   "cell_type": "markdown",
   "metadata": {},
   "source": [
    "### Zadanie 2: Warstwa liniowa\n",
    "\n",
    "Tak samo jak na poprzednich zajęciach wykorzystamy do klasyfikacji warstwę `nn.Linear`. Klasyfikujemy do 10 klas, więc musimy mieć 10 neuronów, ale ilu wejść potrzebujemy? Uzupełnij poprzedni kod na podstawie wyników zadania 1."
   ]
  },
  {
   "cell_type": "code",
   "execution_count": 188,
   "metadata": {},
   "outputs": [],
   "source": [
    "layers.append(nn.Linear(5 * 10 * 10, 10))"
   ]
  },
  {
   "cell_type": "markdown",
   "metadata": {},
   "source": [
    "### Faktyczna budowa sieci neuronowej\n",
    "\n",
    "Warstwy połączymy w jeden moduł wykorzystując klasę `nn.Sequential`, jako funkcję straty wykorzystamy entropię krzyżową, a do optymalizacji optymalizator Adam."
   ]
  },
  {
   "cell_type": "code",
   "execution_count": 189,
   "metadata": {},
   "outputs": [],
   "source": [
    "model = nn.Sequential(*layers)\n",
    "\n",
    "cost = torch.nn.CrossEntropyLoss()\n",
    "opt = optim.Adam(model.parameters())"
   ]
  },
  {
   "cell_type": "code",
   "execution_count": 190,
   "metadata": {},
   "outputs": [
    {
     "name": "stdout",
     "output_type": "stream",
     "text": [
      "----------------------------------------------------------------\n",
      "        Layer (type)               Output Shape         Param #\n",
      "================================================================\n",
      "            Conv2d-1            [-1, 5, 28, 28]              50\n",
      "         LeakyReLU-2            [-1, 5, 28, 28]               0\n",
      "         MaxPool2d-3            [-1, 5, 10, 10]               0\n",
      "           Flatten-4                  [-1, 500]               0\n",
      "            Linear-5                   [-1, 10]           5,010\n",
      "================================================================\n",
      "Total params: 5,060\n",
      "Trainable params: 5,060\n",
      "Non-trainable params: 0\n",
      "----------------------------------------------------------------\n",
      "Input size (MB): 0.00\n",
      "Forward/backward pass size (MB): 0.07\n",
      "Params size (MB): 0.02\n",
      "Estimated Total Size (MB): 0.09\n",
      "----------------------------------------------------------------\n"
     ]
    },
    {
     "data": {
      "text/plain": "Sequential(\n  (0): Conv2d(1, 5, kernel_size=(3, 3), stride=(1, 1), padding=(1, 1))\n  (1): LeakyReLU(negative_slope=0.01)\n  (2): MaxPool2d(kernel_size=3, stride=3, padding=1, dilation=1, ceil_mode=False)\n  (3): Flatten(start_dim=1, end_dim=-1)\n  (4): Linear(in_features=500, out_features=10, bias=True)\n)"
     },
     "execution_count": 190,
     "metadata": {},
     "output_type": "execute_result"
    }
   ],
   "source": [
    "summary(model, (1, 28, 28))\n",
    "model"
   ]
  },
  {
   "cell_type": "markdown",
   "metadata": {},
   "source": [
    "## Uczenie z wykorzystaniem wczesnego zatrzymania\n",
    "\n",
    "Wczesne zatrzymanie (ang. *early stopping*) polega na tym, że co określoną liczbę epok uczenia obliczamy miarę oceny (np. trafność klasyfikacji) na zbiorze walidującym. Jeżeli nastąpiła poprawa w stosunku do poprzedniego razu, to zapamiętujemy obecne wartości wag sieci neuronowej, jeżeli zaś przez kilka razy nie następuje poprawa, to przerywamy uczenie i przywracamy wagi ostatniego najlepszego modelu.\n",
    "\n",
    "Poniższy kawałek kodu oblicza trafność na zbiorze walidującym co epokę i przerywa uczenie jeżeli przez 5 kolejnych epok nie nastąpiła poprawa."
   ]
  },
  {
   "cell_type": "code",
   "execution_count": 191,
   "metadata": {},
   "outputs": [
    {
     "name": "stdout",
     "output_type": "stream",
     "text": [
      "New best epoch  0 acc tensor(0.8219)\n",
      "New best epoch  1 acc tensor(0.8774)\n",
      "New best epoch  2 acc tensor(0.9011)\n",
      "New best epoch  3 acc tensor(0.9126)\n",
      "New best epoch  4 acc tensor(0.9229)\n",
      "New best epoch  5 acc tensor(0.9308)\n",
      "New best epoch  6 acc tensor(0.9344)\n",
      "New best epoch  7 acc tensor(0.9396)\n",
      "New best epoch  8 acc tensor(0.9428)\n",
      "New best epoch  9 acc tensor(0.9466)\n",
      "New best epoch  10 acc tensor(0.9501)\n",
      "New best epoch  11 acc tensor(0.9528)\n",
      "New best epoch  12 acc tensor(0.9544)\n",
      "New best epoch  13 acc tensor(0.9554)\n",
      "New best epoch  14 acc tensor(0.9562)\n",
      "New best epoch  15 acc tensor(0.9583)\n",
      "New best epoch  16 acc tensor(0.9602)\n",
      "New best epoch  18 acc tensor(0.9605)\n",
      "New best epoch  19 acc tensor(0.9608)\n",
      "New best epoch  20 acc tensor(0.9622)\n",
      "New best epoch  21 acc tensor(0.9626)\n",
      "New best epoch  22 acc tensor(0.9629)\n",
      "New best epoch  24 acc tensor(0.9641)\n",
      "New best epoch  25 acc tensor(0.9653)\n",
      "New best epoch  28 acc tensor(0.9660)\n",
      "New best epoch  29 acc tensor(0.9666)\n",
      "New best epoch  30 acc tensor(0.9668)\n",
      "New best epoch  31 acc tensor(0.9670)\n",
      "New best epoch  32 acc tensor(0.9677)\n",
      "New best epoch  34 acc tensor(0.9688)\n",
      "New best epoch  36 acc tensor(0.9690)\n",
      "New best epoch  38 acc tensor(0.9691)\n",
      "New best epoch  39 acc tensor(0.9695)\n",
      "New best epoch  40 acc tensor(0.9705)\n",
      "New best epoch  42 acc tensor(0.9712)\n",
      "No improvement for 5 epochs\n"
     ]
    },
    {
     "data": {
      "text/plain": "<All keys matched successfully>"
     },
     "execution_count": 191,
     "metadata": {},
     "output_type": "execute_result"
    }
   ],
   "source": [
    "train_loss = []\n",
    "validation_acc = []\n",
    "best_model = None\n",
    "best_acc = None\n",
    "best_epoch = None\n",
    "max_epoch = 10000\n",
    "no_improvement = 5\n",
    "batch_size = 512\n",
    "\n",
    "for n_epoch in range(max_epoch):\n",
    "  model.train()\n",
    "  loader = data.DataLoader(mnist_train, batch_size=batch_size, shuffle=True, num_workers=1)\n",
    "  epoch_loss = []\n",
    "  for X_batch, y_batch in loader:\n",
    "    opt.zero_grad()\n",
    "    logits = model(X_batch)\n",
    "    loss = cost(logits, y_batch)\n",
    "    loss.backward()\n",
    "    opt.step()\n",
    "    epoch_loss.append(loss.detach())\n",
    "  train_loss.append(torch.tensor(epoch_loss).mean())\n",
    "  model.eval()\n",
    "  loader = data.DataLoader(mnist_validation, batch_size=len(mnist_validation), shuffle=False)\n",
    "  X, y = next(iter(loader))\n",
    "  logits = model(X)\n",
    "  acc = compute_acc(logits, y).detach()\n",
    "  validation_acc.append(acc)\n",
    "  if best_acc is None or acc > best_acc:\n",
    "    print(\"New best epoch \", n_epoch, \"acc\", acc)\n",
    "    best_acc = acc\n",
    "    best_model = model.state_dict()\n",
    "    best_epoch = n_epoch\n",
    "  if best_epoch + no_improvement <= n_epoch:\n",
    "    print(\"No improvement for\", no_improvement, \"epochs\")\n",
    "    break\n",
    "\n",
    "model.load_state_dict(best_model)"
   ]
  },
  {
   "cell_type": "markdown",
   "metadata": {},
   "source": [
    "Przyjrzyj się poniższym wykresom"
   ]
  },
  {
   "cell_type": "code",
   "execution_count": 192,
   "metadata": {},
   "outputs": [
    {
     "data": {
      "text/plain": "<Figure size 432x288 with 1 Axes>",
      "image/png": "[encoded data removed]"
     },
     "metadata": {
      "needs_background": "light"
     },
     "output_type": "display_data"
    },
    {
     "data": {
      "text/plain": "<Figure size 432x288 with 1 Axes>",
      "image/png": "[encoded data removed]"
     },
     "metadata": {
      "needs_background": "light"
     },
     "output_type": "display_data"
    },
    {
     "data": {
      "text/plain": "<Figure size 432x288 with 1 Axes>",
      "image/png": "[encoded data removed]"
     },
     "metadata": {
      "needs_background": "light"
     },
     "output_type": "display_data"
    }
   ],
   "source": [
    "plt.title('Validation accuracy. Dot denotes best accuracy.')\n",
    "plt.plot(validation_acc, label='Validation accuracy')\n",
    "plt.plot(best_epoch, best_acc, 'bo', label='Best accuracy')\n",
    "plt.show()\n",
    "plt.title('Training loss')\n",
    "plt.plot(train_loss)\n",
    "plt.show()\n",
    "k = max(3 * no_improvement, 0)\n",
    "plt.title('Last {} epochs'.format(k))\n",
    "plt.plot(validation_acc[-k:])\n",
    "plt.plot(best_epoch - (len(validation_acc) - k), best_acc, 'bo')\n",
    "plt.show()"
   ]
  },
  {
   "cell_type": "markdown",
   "metadata": {},
   "source": [
    "### Zadanie 3\n",
    "Dlaczego wczesne zatrzymanie jest realizowane na zbiorze walidującym, a nie na zbiorze uczącym albo na zbiorze testowym?"
   ]
  },
  {
   "cell_type": "markdown",
   "metadata": {},
   "source": [
    "**Tu miejsce na odpowiedź...** Ponieważ zatrzymując na zbiorze testowym grozi bardziej przekłamaną celnością modelu. Walidacja służy do jej weryfikacji."
   ]
  },
  {
   "cell_type": "markdown",
   "metadata": {},
   "source": [
    "### Zadanie 4\n",
    "\n",
    "Oblicz trafność klasyfikacji na zbiorze walidującym i na zbiorze testowym. Czy uzyskane wartości się różnią? W którą stronę? Dlaczego tak może być?"
   ]
  },
  {
   "cell_type": "code",
   "execution_count": 193,
   "outputs": [],
   "source": [
    "model.eval()\n",
    "X, y = next(iter(data.DataLoader(mnist_validation, batch_size=len(mnist_validation), shuffle=False)))\n",
    "validation_accuracy = compute_acc(model(X), y).detach()\n",
    "X, y = next(iter(data.DataLoader(mnist_test, batch_size=len(mnist_test), shuffle=False)))\n",
    "test_accuracy = compute_acc(model(X), y).detach()\n"
   ],
   "metadata": {
    "collapsed": false,
    "pycharm": {
     "name": "#%%\n"
    }
   }
  },
  {
   "cell_type": "code",
   "execution_count": 194,
   "outputs": [
    {
     "name": "stdout",
     "output_type": "stream",
     "text": [
      "validation: 0.9700000286102295\n",
      "real: 0.9735999703407288\n"
     ]
    }
   ],
   "source": [
    "print(f\"validation: {validation_accuracy}\")\n",
    "print(f\"real: {test_accuracy}\")"
   ],
   "metadata": {
    "collapsed": false,
    "pycharm": {
     "name": "#%%\n"
    }
   }
  },
  {
   "cell_type": "markdown",
   "source": [
    "**A tu napisz komentarz** Trafność klasyfikacji na zbiorze testowym jest odrobinę lepsza niż ta na walidacyjnym co może wynikać z przeuczenia się przez model danych testowych w stosunku do tych, na których był walidowany.\n",
    "Może to wynikać z przeuczenia się przez model danych testowych."
   ],
   "metadata": {
    "collapsed": false
   }
  },
  {
   "cell_type": "markdown",
   "metadata": {
    "pycharm": {
     "name": "#%% md\n"
    }
   },
   "source": [
    "## Zadanie do samodzielnego wykonania\n",
    "\n",
    "Zaimplementuj sieć o architekturze zbliżonej do [LeNet-5](http://yann.lecun.com/exdb/publis/pdf/lecun-01a.pdf), zgodnie z poniższym opisem:\n",
    "\n",
    "|Nr warstwy|Typ|Rozmiar wyjścia|Liczba filtrów|Rozmiar jądra (`kernel_size`)|Krok (`stride`)|Padding|Funkcja aktywacji|\n",
    "|----------|---|---------------|--------------|-----------------------|---------------|-------|-----------------|\n",
    "|1|splotowa|$28\\times 28$|6|$5\\times 5$|1|2|tanh|\n",
    "|2|avgerage pooling|$14\\times 14$|6|$2\\times 2$|2|0|tanh|\n",
    "|3|splotowa|$10\\times 10$|16|$5\\times 5$|1|0|tanh|\n",
    "|4|average pooling|$5\\times 5$|16|$2\\times 2$|2|0|tanh|\n",
    "|5|splotowa|$1\\times 1$|120|$5\\times 5$|1|0|tanh|\n",
    "|6|pełna|84|||||tanh|\n",
    "|7|pełna|10|||||brak|"
   ]
  },
  {
   "cell_type": "markdown",
   "source": [
    "Architektura w formie rysunku (z [oryginalnego artykułu](http://yann.lecun.com/exdb/publis/pdf/lecun-01a.pdf)):\n",
    "\n",
    "![LeNet5 architecture](resources/images/lenet5.png)"
   ],
   "metadata": {
    "collapsed": false
   }
  },
  {
   "cell_type": "markdown",
   "source": [
    "## Zadania szczegółowe:\n",
    "\n",
    "1. Zbuduj sieć\n",
    "2. Ucz sieć wykorzystując early stopping (przez ocenę accuracy na zbiorze walidującym)\n",
    "3. Oceń jakość sieci na zbiorze testowym\n",
    "4. Wyświetl 10 źle zaklasyfikowanych przypadków ze zbioru testowego, razem z informacją o poprawnej etykiecie oraz etykiecie zaproponowanej przez model. Posłuż się funkcją `plt.imshow`"
   ],
   "metadata": {
    "collapsed": false
   }
  },
  {
   "cell_type": "code",
   "execution_count": 195,
   "outputs": [
    {
     "name": "stdout",
     "output_type": "stream",
     "text": [
      "----------------------------------------------------------------\n",
      "        Layer (type)               Output Shape         Param #\n",
      "================================================================\n",
      "            Conv2d-1            [-1, 6, 28, 28]             156\n",
      "              Tanh-2            [-1, 6, 28, 28]               0\n",
      "         AvgPool2d-3            [-1, 6, 14, 14]               0\n",
      "            Conv2d-4           [-1, 16, 10, 10]           2,416\n",
      "              Tanh-5           [-1, 16, 10, 10]               0\n",
      "         AvgPool2d-6             [-1, 16, 5, 5]               0\n",
      "            Conv2d-7            [-1, 120, 1, 1]          48,120\n",
      "              Tanh-8            [-1, 120, 1, 1]               0\n",
      "           Flatten-9                  [-1, 120]               0\n",
      "           Linear-10                   [-1, 84]          10,164\n",
      "             Tanh-11                   [-1, 84]               0\n",
      "           Linear-12                   [-1, 10]             850\n",
      "================================================================\n",
      "Total params: 61,706\n",
      "Trainable params: 61,706\n",
      "Non-trainable params: 0\n",
      "----------------------------------------------------------------\n",
      "Input size (MB): 0.00\n",
      "Forward/backward pass size (MB): 0.11\n",
      "Params size (MB): 0.24\n",
      "Estimated Total Size (MB): 0.35\n",
      "----------------------------------------------------------------\n"
     ]
    }
   ],
   "source": [
    "lenet_model = nn.Sequential(\n",
    "  nn.Conv2d(1, 6, (5, 5), stride=(1, 1), padding=2),\n",
    "  nn.Tanh(),\n",
    "  nn.AvgPool2d((2, 2), stride=2, padding=0),\n",
    "  nn.Conv2d(6, 16, (5, 5), padding=0),\n",
    "  nn.Tanh(),\n",
    "  nn.AvgPool2d((2, 2), stride=2, padding=0),\n",
    "  nn.Conv2d(16, 120, (5, 5), stride=(1,), padding=0),\n",
    "  nn.Tanh(),\n",
    "  nn.Flatten(),\n",
    "  nn.Linear(120, 84),\n",
    "  nn.Tanh(),\n",
    "  nn.Linear(84, 10)\n",
    ")\n",
    "cost = torch.nn.CrossEntropyLoss()\n",
    "opt = optim.Adam(lenet_model.parameters())\n",
    "summary(lenet_model, (1, 28, 28))"
   ],
   "metadata": {
    "collapsed": false,
    "pycharm": {
     "name": "#%%\n"
    }
   }
  },
  {
   "cell_type": "code",
   "execution_count": 196,
   "outputs": [
    {
     "name": "stdout",
     "output_type": "stream",
     "text": [
      "New best epoch 1 with acc: 0.8912500143051147\n",
      "New best epoch 2 with acc: 0.9306666851043701\n",
      "New best epoch 3 with acc: 0.9497500061988831\n",
      "New best epoch 4 with acc: 0.9614166617393494\n",
      "New best epoch 5 with acc: 0.9661666750907898\n",
      "New best epoch 6 with acc: 0.9714999794960022\n",
      "New best epoch 7 with acc: 0.9768333435058594\n",
      "New best epoch 8 with acc: 0.9779166579246521\n",
      "New best epoch 9 with acc: 0.9795833230018616\n",
      "New best epoch 10 with acc: 0.981166660785675\n",
      "New best epoch 11 with acc: 0.981416642665863\n",
      "New best epoch 12 with acc: 0.9830833077430725\n",
      "New best epoch 13 with acc: 0.9833333492279053\n",
      "New best epoch 14 with acc: 0.984000027179718\n",
      "New best epoch 15 with acc: 0.984083354473114\n",
      "New best epoch 16 with acc: 0.9850000143051147\n",
      "New best epoch 19 with acc: 0.9860000014305115\n",
      "New best epoch 21 with acc: 0.9861666560173035\n",
      "New best epoch 22 with acc: 0.9865000247955322\n",
      "New best epoch 24 with acc: 0.9866666793823242\n",
      "New best epoch 25 with acc: 0.9870833158493042\n",
      "No improvement for 5 epochs\n"
     ]
    },
    {
     "data": {
      "text/plain": "<All keys matched successfully>"
     },
     "execution_count": 196,
     "metadata": {},
     "output_type": "execute_result"
    }
   ],
   "source": [
    "train_loss = []\n",
    "validation_acc = []\n",
    "best_model = None\n",
    "best_acc = None\n",
    "best_epoch = None\n",
    "max_epoch = 10000\n",
    "no_improvement = 5\n",
    "batch_size = 512\n",
    "\n",
    "for n_epoch in range(1, max_epoch + 1):\n",
    "  lenet_model.train()\n",
    "  loader = data.DataLoader(mnist_train, batch_size=batch_size, shuffle=True, num_workers=1)\n",
    "\n",
    "  epoch_loss = []\n",
    "  for X_batch, y_batch in loader:\n",
    "    opt.zero_grad()\n",
    "    logits = lenet_model(X_batch)\n",
    "    loss = cost(logits, y_batch)\n",
    "    loss.backward()\n",
    "    opt.step()\n",
    "    epoch_loss.append(loss.detach())\n",
    "\n",
    "  train_loss.append(torch.tensor(epoch_loss).mean())\n",
    "  lenet_model.eval()\n",
    "\n",
    "  loader = data.DataLoader(mnist_validation, batch_size=len(mnist_validation), shuffle=False)\n",
    "  X, y = next(iter(loader))\n",
    "  logits = lenet_model(X)\n",
    "  acc = compute_acc(logits, y).detach()\n",
    "  validation_acc.append(acc)\n",
    "\n",
    "  if best_acc is None or acc > best_acc:\n",
    "    print(f\"New best epoch {n_epoch} with acc: {acc}\")\n",
    "    best_acc = acc\n",
    "    best_model = lenet_model.state_dict()\n",
    "    best_epoch = n_epoch\n",
    "\n",
    "  if best_epoch + no_improvement <= n_epoch:\n",
    "    print(f\"No improvement for {no_improvement} epochs\")\n",
    "    break\n",
    "\n",
    "lenet_model.load_state_dict(best_model)"
   ],
   "metadata": {
    "collapsed": false,
    "pycharm": {
     "name": "#%%\n"
    }
   }
  },
  {
   "cell_type": "code",
   "execution_count": 197,
   "outputs": [],
   "source": [
    "lenet_model.eval()\n",
    "X, y = next(iter(data.DataLoader(mnist_validation, batch_size=len(mnist_validation), shuffle=False)))\n",
    "validation_accuracy = compute_acc(lenet_model(X), y).detach()\n",
    "X, y = next(iter(data.DataLoader(mnist_test, batch_size=len(mnist_test), shuffle=False)))\n",
    "test_accuracy = compute_acc(lenet_model(X), y).detach()"
   ],
   "metadata": {
    "collapsed": false,
    "pycharm": {
     "name": "#%%\n"
    }
   }
  },
  {
   "cell_type": "code",
   "execution_count": 198,
   "outputs": [
    {
     "name": "stdout",
     "output_type": "stream",
     "text": [
      "validation: 0.9866666793823242\n",
      "real: 0.9993749856948853\n"
     ]
    }
   ],
   "source": [
    "print(f\"validation: {validation_accuracy}\")\n",
    "print(f\"real: {test_accuracy}\")"
   ],
   "metadata": {
    "collapsed": false,
    "pycharm": {
     "name": "#%%\n"
    }
   }
  },
  {
   "cell_type": "code",
   "execution_count": 199,
   "outputs": [
    {
     "data": {
      "text/plain": "<Figure size 432x288 with 1 Axes>",
      "image/png": "[encoded data removed]"
     },
     "metadata": {
      "needs_background": "light"
     },
     "output_type": "display_data"
    },
    {
     "data": {
      "text/plain": "<Figure size 432x288 with 1 Axes>",
      "image/png": "[encoded data removed]"
     },
     "metadata": {
      "needs_background": "light"
     },
     "output_type": "display_data"
    },
    {
     "data": {
      "text/plain": "<Figure size 432x288 with 1 Axes>",
      "image/png": "[encoded data removed]"
     },
     "metadata": {
      "needs_background": "light"
     },
     "output_type": "display_data"
    }
   ],
   "source": [
    "plt.title('Validation accuracy. Dot denotes best accuracy.')\n",
    "plt.plot(validation_acc, label='Validation accuracy')\n",
    "plt.plot(best_epoch, best_acc, 'bo', label='Best accuracy')\n",
    "plt.show()\n",
    "plt.title('Training loss')\n",
    "plt.plot(train_loss)\n",
    "plt.show()\n",
    "k = max(3 * no_improvement, 0)\n",
    "plt.title(f'Last {k} epochs')\n",
    "plt.plot(validation_acc[-k:])\n",
    "plt.plot(best_epoch - (len(validation_acc) - k), best_acc, 'bo')\n",
    "plt.show()"
   ],
   "metadata": {
    "collapsed": false,
    "pycharm": {
     "name": "#%%\n"
    }
   }
  },
  {
   "cell_type": "code",
   "execution_count": 322,
   "outputs": [
    {
     "name": "stdout",
     "output_type": "stream",
     "text": [
      "7 classified as 7\n",
      "9 classified as 9\n",
      "2 classified as 2\n",
      "6 classified as 6\n",
      "5 classified as 5\n",
      "5 classified as 5\n",
      "7 classified as 7\n",
      "8 classified as 8\n",
      "6 classified as 6\n",
      "8 classified as 8\n"
     ]
    },
    {
     "data": {
      "text/plain": "<PIL.Image.Image image mode=L size=140x56 at 0x21B91A92730>",
      "image/png": "[encoded data removed]"
     },
     "execution_count": 322,
     "metadata": {},
     "output_type": "execute_result"
    }
   ],
   "source": [
    "from itertools import islice\n",
    "from torch import argmax\n",
    "from PIL import Image\n",
    "from torchvision import transforms\n",
    "\n",
    "X, y = next(iter(data.DataLoader(mnist_test, batch_size=len(mnist_test), shuffle=True)))\n",
    "x_offset = 0\n",
    "y_offset = 0\n",
    "image_size = 28\n",
    "collage = Image.new('L', (image_size * 5, image_size * 2))\n",
    "\n",
    "is_invalid = lambda r: lambda r: r[1] != r[2]\n",
    "for (i, (X, y, yhat)) in enumerate(islice(filter(is_invalid, zip(X, y, argmax(lenet_model(X), dim=1))), 10), start=1):\n",
    "  image = transforms.ToPILImage()(X)\n",
    "  collage.paste(image, (x_offset, y_offset))\n",
    "  x_offset += 28\n",
    "  print(f\"{y} classified as {yhat}\")\n",
    "\n",
    "  if i % 5 == 0:\n",
    "    x_offset = 0\n",
    "    y_offset += 28\n",
    "collage"
   ],
   "metadata": {
    "collapsed": false,
    "pycharm": {
     "name": "#%%\n"
    }
   }
  }
 ],
 "metadata": {
  "kernelspec": {
   "display_name": "Python 3",
   "language": "python",
   "name": "python3"
  },
  "language_info": {
   "codemirror_mode": {
    "name": "ipython",
    "version": 3
   },
   "file_extension": ".py",
   "mimetype": "text/x-python",
   "name": "python",
   "nbconvert_exporter": "python",
   "pygments_lexer": "ipython3",
   "version": "3.7.3"
  }
 },
 "nbformat": 4,
 "nbformat_minor": 2
}